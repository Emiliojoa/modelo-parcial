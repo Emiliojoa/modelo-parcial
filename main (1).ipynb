{
 "cells": [
  {
   "cell_type": "markdown",
   "id": "9fee5ee9",
   "metadata": {},
   "source": [
    "# Modelo de Examen Practico - TLP3 - Python para Ciencia de Datos.\n"
   ]
  },
  {
   "cell_type": "markdown",
   "id": "999099d0",
   "metadata": {},
   "source": [
    "**A partir del datasets brindado, realizar los siguientes procedimientos:**\n",
    "\n",
    "* Importar datasets con Pandas.\n",
    "* Explorar los datos con los metodos correspondientes. \n",
    "* Limpieza de los datos (Normalización de datos).\n",
    "* Obtener estadisticas.\n",
    "* Mostrar los datos procesados con graficos utilizando la libreria Matplotlib.\n",
    "* Exportar el contenido a un archivo sqlite utilizando PANDAS.\n",
    "\n",
    "\n",
    "**Importante: Se debe documentar cada procedimiento realizado, siguiendo la siguiente estructura:**\n",
    "\n",
    "1. Celda de Markdown (Documentación)\n",
    "2. Código (Sin comentarios, se debe documentar lo sufiente solo en la celda de markdown)."
   ]
  },
  {
   "cell_type": "markdown",
   "id": "800bd1ea",
   "metadata": {},
   "source": [
    "## importaciones\n"
   ]
  },
  {
   "cell_type": "code",
   "execution_count": 146,
   "id": "a89f2f6c",
   "metadata": {},
   "outputs": [],
   "source": [
    "import pandas as pd\n",
    "import numpy as np\n",
    "import matplotlib.pyplot as plt"
   ]
  },
  {
   "cell_type": "markdown",
   "id": "dd91f969",
   "metadata": {},
   "source": [
    "## Actividades: \n",
    "### 1. Importación del Dataset con Pandas\n",
    "\n",
    "En esta sección, se debe utilizar la librería Pandas para cargar el archivo CSV que contiene los datos de las calificaciones en un DataFrame, que es la estructura de datos fundamental para el análisis con Pandas.\n",
    "\n",
    "### 2. Exploración Inicial de los Datos\n",
    "\n",
    "A continuación, se deben emplear métodos de Pandas para obtener una visión general del dataset. Esto incluye mostrar las primeras filas, obtener un resumen de la información del DataFrame (tipos de datos, valores no nulos), y calcular estadísticas descriptivas de las columnas numéricas.\n",
    "\n",
    "### 3. Limpieza y Normalización de los Datos\n",
    "\n",
    "Esta etapa crucial deben aplicar la corrección de diversos errores presentes en el dataset. Se abordarán los valores faltantes, la inconsistencia en el formato de la columna 'Asistencia', los posibles valores atípicos y la normalización de los nombres de estudiantes y materias a un formato consistente (por ejemplo, capitalización).\n",
    "\n",
    "### 4. Obtención de Estadísticas Descriptivas\n",
    "\n",
    "Después de la limpieza, deben calcular nuevamente las estadísticas descriptivas para observar el impacto del proceso de limpieza en los datos numéricos. También se pueden calcular estadísticas específicas por grupo (por ejemplo, promedio de calificaciones por materia).\n",
    "\n",
    "### 5. Visualización de los Datos con Matplotlib\n",
    "\n",
    "En esta sección, deben utilizar la librería Matplotlib para crear visualizaciones que permitan comprender mejor la distribución de las calificaciones y la asistencia. Se generarán histogramas, diagramas de dispersión y gráficos de barras.\n",
    "\n",
    "### 6. Exportación a Archivo SQLite\n",
    "\n",
    "Finalmente, deben utilizar la funcionalidad de Pandas para guardar el DataFrame procesado en una base de datos SQLite. Esto permite almacenar los datos de forma estructurada para su posterior consulta y uso.\n",
    "\n"
   ]
  },
  {
   "cell_type": "markdown",
   "id": "6cb68942",
   "metadata": {},
   "source": [
    "### 1. Importación del Dataset con Pandas\n",
    "\n",
    "En esta sección, se debe utilizar la librería Pandas para cargar el archivo CSV que contiene los datos de las calificaciones en un DataFrame, que es la estructura de datos fundamental para el análisis con Pandas."
   ]
  },
  {
   "cell_type": "code",
   "execution_count": 147,
   "id": "c343493f",
   "metadata": {},
   "outputs": [],
   "source": [
    "df=pd.read_csv(\"datasets_calificaciones.csv\", index_col=False)\n"
   ]
  },
  {
   "cell_type": "markdown",
   "id": "b945f859",
   "metadata": {},
   "source": [
    "### 2. Exploración Inicial de los Datos\n",
    "\n",
    "A continuación, se deben emplear métodos de Pandas para obtener una visión general del dataset. Esto incluye mostrar las primeras filas, obtener un resumen de la información del DataFrame (tipos de datos, valores no nulos), y calcular estadísticas descriptivas de las columnas numéricas."
   ]
  },
  {
   "cell_type": "markdown",
   "id": "4f7a13e5",
   "metadata": {},
   "source": [
    "# Punto 1\n",
    "#### Visualizamos la estructura del dataFrame"
   ]
  },
  {
   "cell_type": "code",
   "execution_count": 148,
   "id": "c7e00dff",
   "metadata": {},
   "outputs": [
    {
     "name": "stdout",
     "output_type": "stream",
     "text": [
      "primeros 5 datos \n",
      "        estudiante      Materia Parcial 1 Parcial 2 Final Asistencia\n",
      "0        ana pérez  matematicas         8       7.5     9        95%\n",
      "1     carlos lópez       fisica       6.2         7   NaN        88%\n",
      "2      maría gómez      quimica         9       8.8   9.5       100%\n",
      "3  pedro rodríguez     historia       7.5         6     7         75\n",
      "4     laura vargas  matematicas                 9.2   8.5        92%\n",
      "<------------------------------------------------------------------------------>\n",
      "Ultimos 5 datos \n",
      "         estudiante      Materia Parcial 1 Parcial 2 Final Asistencia\n",
      "95  josefina torres     historia       7.4       6.8   7.2        81%\n",
      "96  bautista vargas  matematicas       8.7       NaN   8.5        92%\n",
      "97        emma soto       fisica       6.6       7.0   6.4        83%\n",
      "98       mateo díaz      quimica       9.5       9.7              98%\n",
      "99  sofía fernández     historia       7.1       7.6   7.5        87%\n"
     ]
    }
   ],
   "source": [
    "print(\"primeros 5 datos \")\n",
    "print(df.head())\n",
    "\n",
    "print(\"<------------------------------------------------------------------------------>\")\n",
    "\n",
    "print(\"Ultimos 5 datos \")\n",
    "print(df.tail())"
   ]
  },
  {
   "cell_type": "markdown",
   "id": "fe5e7331",
   "metadata": {},
   "source": [
    "## Visualizamos los datos (columnas)"
   ]
  },
  {
   "cell_type": "code",
   "execution_count": 149,
   "id": "53ec4970",
   "metadata": {},
   "outputs": [
    {
     "name": "stdout",
     "output_type": "stream",
     "text": [
      "Tipo de datos en las columnas:\n",
      "<class 'pandas.core.frame.DataFrame'>\n",
      "RangeIndex: 100 entries, 0 to 99\n",
      "Data columns (total 6 columns):\n",
      " #   Column      Non-Null Count  Dtype \n",
      "---  ------      --------------  ----- \n",
      " 0   estudiante  100 non-null    object\n",
      " 1   Materia     100 non-null    object\n",
      " 2   Parcial 1   95 non-null     object\n",
      " 3   Parcial 2   90 non-null     object\n",
      " 4   Final       89 non-null     object\n",
      " 5   Asistencia  100 non-null    object\n",
      "dtypes: object(6)\n",
      "memory usage: 4.8+ KB\n"
     ]
    }
   ],
   "source": [
    "print(\"Tipo de datos en las columnas:\")\n",
    "df.info()\n"
   ]
  },
  {
   "cell_type": "markdown",
   "id": "58e7d207",
   "metadata": {},
   "source": [
    "## Vemos la cantidad de datos nulos (si es que los hay)"
   ]
  },
  {
   "cell_type": "code",
   "execution_count": 150,
   "id": "c96becd7",
   "metadata": {},
   "outputs": [
    {
     "name": "stdout",
     "output_type": "stream",
     "text": [
      "Valores nulos: \n"
     ]
    },
    {
     "data": {
      "text/plain": [
       "estudiante     0\n",
       "Materia        0\n",
       "Parcial 1      5\n",
       "Parcial 2     10\n",
       "Final         11\n",
       "Asistencia     0\n",
       "dtype: int64"
      ]
     },
     "execution_count": 150,
     "metadata": {},
     "output_type": "execute_result"
    }
   ],
   "source": [
    "print(\"Valores nulos: \")\n",
    "df.isnull().sum()"
   ]
  },
  {
   "cell_type": "markdown",
   "id": "d474c970",
   "metadata": {},
   "source": [
    "# Punto 3\n"
   ]
  },
  {
   "cell_type": "markdown",
   "id": "3e8214e3",
   "metadata": {},
   "source": [
    "### Conversacion de datos, pasaremos los datos de las columnas Parcial 1 y 2, tambien la de final a numericos. Cualquier datos que no es numero pasara a ser NaN y facilitara realizar actividades estadísticas."
   ]
  },
  {
   "cell_type": "code",
   "execution_count": 151,
   "id": "d5cf80e7",
   "metadata": {},
   "outputs": [
    {
     "data": {
      "text/html": [
       "<div>\n",
       "<style scoped>\n",
       "    .dataframe tbody tr th:only-of-type {\n",
       "        vertical-align: middle;\n",
       "    }\n",
       "\n",
       "    .dataframe tbody tr th {\n",
       "        vertical-align: top;\n",
       "    }\n",
       "\n",
       "    .dataframe thead th {\n",
       "        text-align: right;\n",
       "    }\n",
       "</style>\n",
       "<table border=\"1\" class=\"dataframe\">\n",
       "  <thead>\n",
       "    <tr style=\"text-align: right;\">\n",
       "      <th></th>\n",
       "      <th>estudiante</th>\n",
       "      <th>Materia</th>\n",
       "      <th>Parcial 1</th>\n",
       "      <th>Parcial 2</th>\n",
       "      <th>Final</th>\n",
       "      <th>Asistencia</th>\n",
       "    </tr>\n",
       "  </thead>\n",
       "  <tbody>\n",
       "    <tr>\n",
       "      <th>0</th>\n",
       "      <td>ana pérez</td>\n",
       "      <td>matematicas</td>\n",
       "      <td>8.0</td>\n",
       "      <td>7.5</td>\n",
       "      <td>9.0</td>\n",
       "      <td>95%</td>\n",
       "    </tr>\n",
       "    <tr>\n",
       "      <th>1</th>\n",
       "      <td>carlos lópez</td>\n",
       "      <td>fisica</td>\n",
       "      <td>6.2</td>\n",
       "      <td>7.0</td>\n",
       "      <td>NaN</td>\n",
       "      <td>88%</td>\n",
       "    </tr>\n",
       "    <tr>\n",
       "      <th>2</th>\n",
       "      <td>maría gómez</td>\n",
       "      <td>quimica</td>\n",
       "      <td>9.0</td>\n",
       "      <td>8.8</td>\n",
       "      <td>9.5</td>\n",
       "      <td>100%</td>\n",
       "    </tr>\n",
       "    <tr>\n",
       "      <th>3</th>\n",
       "      <td>pedro rodríguez</td>\n",
       "      <td>historia</td>\n",
       "      <td>7.5</td>\n",
       "      <td>6.0</td>\n",
       "      <td>7.0</td>\n",
       "      <td>75</td>\n",
       "    </tr>\n",
       "    <tr>\n",
       "      <th>4</th>\n",
       "      <td>laura vargas</td>\n",
       "      <td>matematicas</td>\n",
       "      <td>NaN</td>\n",
       "      <td>9.2</td>\n",
       "      <td>8.5</td>\n",
       "      <td>92%</td>\n",
       "    </tr>\n",
       "    <tr>\n",
       "      <th>...</th>\n",
       "      <td>...</td>\n",
       "      <td>...</td>\n",
       "      <td>...</td>\n",
       "      <td>...</td>\n",
       "      <td>...</td>\n",
       "      <td>...</td>\n",
       "    </tr>\n",
       "    <tr>\n",
       "      <th>95</th>\n",
       "      <td>josefina torres</td>\n",
       "      <td>historia</td>\n",
       "      <td>7.4</td>\n",
       "      <td>6.8</td>\n",
       "      <td>7.2</td>\n",
       "      <td>81%</td>\n",
       "    </tr>\n",
       "    <tr>\n",
       "      <th>96</th>\n",
       "      <td>bautista vargas</td>\n",
       "      <td>matematicas</td>\n",
       "      <td>8.7</td>\n",
       "      <td>NaN</td>\n",
       "      <td>8.5</td>\n",
       "      <td>92%</td>\n",
       "    </tr>\n",
       "    <tr>\n",
       "      <th>97</th>\n",
       "      <td>emma soto</td>\n",
       "      <td>fisica</td>\n",
       "      <td>6.6</td>\n",
       "      <td>7.0</td>\n",
       "      <td>6.4</td>\n",
       "      <td>83%</td>\n",
       "    </tr>\n",
       "    <tr>\n",
       "      <th>98</th>\n",
       "      <td>mateo díaz</td>\n",
       "      <td>quimica</td>\n",
       "      <td>9.5</td>\n",
       "      <td>9.7</td>\n",
       "      <td>NaN</td>\n",
       "      <td>98%</td>\n",
       "    </tr>\n",
       "    <tr>\n",
       "      <th>99</th>\n",
       "      <td>sofía fernández</td>\n",
       "      <td>historia</td>\n",
       "      <td>7.1</td>\n",
       "      <td>7.6</td>\n",
       "      <td>7.5</td>\n",
       "      <td>87%</td>\n",
       "    </tr>\n",
       "  </tbody>\n",
       "</table>\n",
       "<p>100 rows × 6 columns</p>\n",
       "</div>"
      ],
      "text/plain": [
       "         estudiante      Materia  Parcial 1  Parcial 2  Final Asistencia\n",
       "0         ana pérez  matematicas        8.0        7.5    9.0        95%\n",
       "1      carlos lópez       fisica        6.2        7.0    NaN        88%\n",
       "2       maría gómez      quimica        9.0        8.8    9.5       100%\n",
       "3   pedro rodríguez     historia        7.5        6.0    7.0         75\n",
       "4      laura vargas  matematicas        NaN        9.2    8.5        92%\n",
       "..              ...          ...        ...        ...    ...        ...\n",
       "95  josefina torres     historia        7.4        6.8    7.2        81%\n",
       "96  bautista vargas  matematicas        8.7        NaN    8.5        92%\n",
       "97        emma soto       fisica        6.6        7.0    6.4        83%\n",
       "98       mateo díaz      quimica        9.5        9.7    NaN        98%\n",
       "99  sofía fernández     historia        7.1        7.6    7.5        87%\n",
       "\n",
       "[100 rows x 6 columns]"
      ]
     },
     "execution_count": 151,
     "metadata": {},
     "output_type": "execute_result"
    }
   ],
   "source": [
    "df[\"Parcial 1\"]=pd.to_numeric(df[\"Parcial 1\"], errors='coerce')\n",
    "df[\"Parcial 2\"]=pd.to_numeric(df[\"Parcial 2\"], errors='coerce')\n",
    "df[\"Final\"]=pd.to_numeric(df[\"Final\"], errors='coerce')\n",
    "df"
   ]
  },
  {
   "cell_type": "markdown",
   "id": "a916b050",
   "metadata": {},
   "source": [
    "# Ahora convertiremos los valores nulos con la media de cada una de ellas\n",
    "### Tambien redondearemos a un solo decimas\n"
   ]
  },
  {
   "cell_type": "code",
   "execution_count": null,
   "id": "341f072e",
   "metadata": {},
   "outputs": [
    {
     "data": {
      "text/html": [
       "<div>\n",
       "<style scoped>\n",
       "    .dataframe tbody tr th:only-of-type {\n",
       "        vertical-align: middle;\n",
       "    }\n",
       "\n",
       "    .dataframe tbody tr th {\n",
       "        vertical-align: top;\n",
       "    }\n",
       "\n",
       "    .dataframe thead th {\n",
       "        text-align: right;\n",
       "    }\n",
       "</style>\n",
       "<table border=\"1\" class=\"dataframe\">\n",
       "  <thead>\n",
       "    <tr style=\"text-align: right;\">\n",
       "      <th></th>\n",
       "      <th>Estudiante</th>\n",
       "      <th>Materia</th>\n",
       "      <th>Parcial 1</th>\n",
       "      <th>Parcial 2</th>\n",
       "      <th>Final</th>\n",
       "      <th>Asistencia</th>\n",
       "    </tr>\n",
       "  </thead>\n",
       "  <tbody>\n",
       "    <tr>\n",
       "      <th>0</th>\n",
       "      <td>Ana Pérez</td>\n",
       "      <td>matematicas</td>\n",
       "      <td>8.0</td>\n",
       "      <td>8.0</td>\n",
       "      <td>9.0</td>\n",
       "      <td>95%</td>\n",
       "    </tr>\n",
       "    <tr>\n",
       "      <th>1</th>\n",
       "      <td>Carlos López</td>\n",
       "      <td>fisica</td>\n",
       "      <td>6.0</td>\n",
       "      <td>7.0</td>\n",
       "      <td>7.9</td>\n",
       "      <td>88%</td>\n",
       "    </tr>\n",
       "    <tr>\n",
       "      <th>2</th>\n",
       "      <td>María Gómez</td>\n",
       "      <td>quimica</td>\n",
       "      <td>9.0</td>\n",
       "      <td>9.0</td>\n",
       "      <td>9.5</td>\n",
       "      <td>100%</td>\n",
       "    </tr>\n",
       "    <tr>\n",
       "      <th>3</th>\n",
       "      <td>Pedro Rodríguez</td>\n",
       "      <td>historia</td>\n",
       "      <td>8.0</td>\n",
       "      <td>6.0</td>\n",
       "      <td>7.0</td>\n",
       "      <td>75%</td>\n",
       "    </tr>\n",
       "    <tr>\n",
       "      <th>4</th>\n",
       "      <td>Laura Vargas</td>\n",
       "      <td>matematicas</td>\n",
       "      <td>8.0</td>\n",
       "      <td>9.0</td>\n",
       "      <td>8.5</td>\n",
       "      <td>92%</td>\n",
       "    </tr>\n",
       "    <tr>\n",
       "      <th>...</th>\n",
       "      <td>...</td>\n",
       "      <td>...</td>\n",
       "      <td>...</td>\n",
       "      <td>...</td>\n",
       "      <td>...</td>\n",
       "      <td>...</td>\n",
       "    </tr>\n",
       "    <tr>\n",
       "      <th>95</th>\n",
       "      <td>Josefina Torres</td>\n",
       "      <td>historia</td>\n",
       "      <td>7.0</td>\n",
       "      <td>7.0</td>\n",
       "      <td>7.2</td>\n",
       "      <td>81%</td>\n",
       "    </tr>\n",
       "    <tr>\n",
       "      <th>96</th>\n",
       "      <td>Bautista Vargas</td>\n",
       "      <td>matematicas</td>\n",
       "      <td>9.0</td>\n",
       "      <td>8.0</td>\n",
       "      <td>8.5</td>\n",
       "      <td>92%</td>\n",
       "    </tr>\n",
       "    <tr>\n",
       "      <th>97</th>\n",
       "      <td>Emma Soto</td>\n",
       "      <td>fisica</td>\n",
       "      <td>7.0</td>\n",
       "      <td>7.0</td>\n",
       "      <td>6.4</td>\n",
       "      <td>83%</td>\n",
       "    </tr>\n",
       "    <tr>\n",
       "      <th>98</th>\n",
       "      <td>Mateo Díaz</td>\n",
       "      <td>quimica</td>\n",
       "      <td>10.0</td>\n",
       "      <td>10.0</td>\n",
       "      <td>7.9</td>\n",
       "      <td>98%</td>\n",
       "    </tr>\n",
       "    <tr>\n",
       "      <th>99</th>\n",
       "      <td>Sofía Fernández</td>\n",
       "      <td>historia</td>\n",
       "      <td>7.0</td>\n",
       "      <td>8.0</td>\n",
       "      <td>7.5</td>\n",
       "      <td>87%</td>\n",
       "    </tr>\n",
       "  </tbody>\n",
       "</table>\n",
       "<p>100 rows × 6 columns</p>\n",
       "</div>"
      ],
      "text/plain": [
       "         Estudiante      Materia  Parcial 1  Parcial 2  Final Asistencia\n",
       "0         Ana Pérez  matematicas        8.0        8.0    9.0        95%\n",
       "1      Carlos López       fisica        6.0        7.0    7.9        88%\n",
       "2       María Gómez      quimica        9.0        9.0    9.5       100%\n",
       "3   Pedro Rodríguez     historia        8.0        6.0    7.0        75%\n",
       "4      Laura Vargas  matematicas        8.0        9.0    8.5        92%\n",
       "..              ...          ...        ...        ...    ...        ...\n",
       "95  Josefina Torres     historia        7.0        7.0    7.2        81%\n",
       "96  Bautista Vargas  matematicas        9.0        8.0    8.5        92%\n",
       "97        Emma Soto       fisica        7.0        7.0    6.4        83%\n",
       "98       Mateo Díaz      quimica       10.0       10.0    7.9        98%\n",
       "99  Sofía Fernández     historia        7.0        8.0    7.5        87%\n",
       "\n",
       "[100 rows x 6 columns]"
      ]
     },
     "execution_count": 179,
     "metadata": {},
     "output_type": "execute_result"
    }
   ],
   "source": [
    "df[\"Parcial 1\"]=df[\"Parcial 1\"].fillna(df[\"Parcial 1\"].mean()).round()\n",
    "df[\"Parcial 2\"]=df[\"Parcial 2\"].fillna(df[\"Parcial 2\"].mean()).round()\n",
    "df[\"Final\"]=df[\"Final\"].fillna(df[\"Final\"].mean()).round()\n",
    "df"
   ]
  },
  {
   "cell_type": "markdown",
   "id": "e04de50d",
   "metadata": {},
   "source": [
    "### Verificamos los valores nulos\n"
   ]
  },
  {
   "cell_type": "code",
   "execution_count": null,
   "id": "839fc612",
   "metadata": {},
   "outputs": [
    {
     "data": {
      "text/plain": [
       "estudiante    0\n",
       "Materia       0\n",
       "Parcial 1     0\n",
       "Parcial 2     0\n",
       "Final         0\n",
       "Asistencia    0\n",
       "dtype: int64"
      ]
     },
     "execution_count": 153,
     "metadata": {},
     "output_type": "execute_result"
    }
   ],
   "source": [
    "df.isnull().sum()"
   ]
  },
  {
   "cell_type": "markdown",
   "id": "42a17030",
   "metadata": {},
   "source": [
    "### Ahora convertiremos los valores de la columna asistencia a enteros y eliminaremos el \"%\". Para luego agregarlos a todos los numeros nuevamente\n",
    "### Tambien limitaremos los valores a 100 porque hay algunos que lo superan y es ilogico"
   ]
  },
  {
   "cell_type": "code",
   "execution_count": 154,
   "id": "0a324d88",
   "metadata": {},
   "outputs": [
    {
     "data": {
      "text/html": [
       "<div>\n",
       "<style scoped>\n",
       "    .dataframe tbody tr th:only-of-type {\n",
       "        vertical-align: middle;\n",
       "    }\n",
       "\n",
       "    .dataframe tbody tr th {\n",
       "        vertical-align: top;\n",
       "    }\n",
       "\n",
       "    .dataframe thead th {\n",
       "        text-align: right;\n",
       "    }\n",
       "</style>\n",
       "<table border=\"1\" class=\"dataframe\">\n",
       "  <thead>\n",
       "    <tr style=\"text-align: right;\">\n",
       "      <th></th>\n",
       "      <th>estudiante</th>\n",
       "      <th>Materia</th>\n",
       "      <th>Parcial 1</th>\n",
       "      <th>Parcial 2</th>\n",
       "      <th>Final</th>\n",
       "      <th>Asistencia</th>\n",
       "    </tr>\n",
       "  </thead>\n",
       "  <tbody>\n",
       "    <tr>\n",
       "      <th>0</th>\n",
       "      <td>ana pérez</td>\n",
       "      <td>matematicas</td>\n",
       "      <td>8.0</td>\n",
       "      <td>7.5</td>\n",
       "      <td>9.0</td>\n",
       "      <td>95%</td>\n",
       "    </tr>\n",
       "    <tr>\n",
       "      <th>1</th>\n",
       "      <td>carlos lópez</td>\n",
       "      <td>fisica</td>\n",
       "      <td>6.2</td>\n",
       "      <td>7.0</td>\n",
       "      <td>7.9</td>\n",
       "      <td>88%</td>\n",
       "    </tr>\n",
       "    <tr>\n",
       "      <th>2</th>\n",
       "      <td>maría gómez</td>\n",
       "      <td>quimica</td>\n",
       "      <td>9.0</td>\n",
       "      <td>8.8</td>\n",
       "      <td>9.5</td>\n",
       "      <td>100%</td>\n",
       "    </tr>\n",
       "    <tr>\n",
       "      <th>3</th>\n",
       "      <td>pedro rodríguez</td>\n",
       "      <td>historia</td>\n",
       "      <td>7.5</td>\n",
       "      <td>6.0</td>\n",
       "      <td>7.0</td>\n",
       "      <td>75%</td>\n",
       "    </tr>\n",
       "    <tr>\n",
       "      <th>4</th>\n",
       "      <td>laura vargas</td>\n",
       "      <td>matematicas</td>\n",
       "      <td>7.8</td>\n",
       "      <td>9.2</td>\n",
       "      <td>8.5</td>\n",
       "      <td>92%</td>\n",
       "    </tr>\n",
       "  </tbody>\n",
       "</table>\n",
       "</div>"
      ],
      "text/plain": [
       "        estudiante      Materia  Parcial 1  Parcial 2  Final Asistencia\n",
       "0        ana pérez  matematicas        8.0        7.5    9.0        95%\n",
       "1     carlos lópez       fisica        6.2        7.0    7.9        88%\n",
       "2      maría gómez      quimica        9.0        8.8    9.5       100%\n",
       "3  pedro rodríguez     historia        7.5        6.0    7.0        75%\n",
       "4     laura vargas  matematicas        7.8        9.2    8.5        92%"
      ]
     },
     "execution_count": 154,
     "metadata": {},
     "output_type": "execute_result"
    }
   ],
   "source": [
    "df[\"Asistencia\"]=df[\"Asistencia\"].str.replace(\"%\", \"\").astype(int)\n",
    "# df[\"Asistencia\"] = df[\"Asistencia\"].str.replace(\"%\", \"\").astype(int)\n",
    "df[\"Asistencia\"]=df[\"Asistencia\"].clip(100, upper=True).astype(str) + \"%\"\n",
    "df.head()"
   ]
  },
  {
   "cell_type": "markdown",
   "id": "aab5eb9f",
   "metadata": {},
   "source": [
    "### Ahora haremos que todos los nombres y apellidos empiecen con mayusculas como se debe, tambien eliminaremos los espacios en blancos (si es que los hay)"
   ]
  },
  {
   "cell_type": "code",
   "execution_count": 155,
   "id": "2e22dc0f",
   "metadata": {},
   "outputs": [
    {
     "data": {
      "text/html": [
       "<div>\n",
       "<style scoped>\n",
       "    .dataframe tbody tr th:only-of-type {\n",
       "        vertical-align: middle;\n",
       "    }\n",
       "\n",
       "    .dataframe tbody tr th {\n",
       "        vertical-align: top;\n",
       "    }\n",
       "\n",
       "    .dataframe thead th {\n",
       "        text-align: right;\n",
       "    }\n",
       "</style>\n",
       "<table border=\"1\" class=\"dataframe\">\n",
       "  <thead>\n",
       "    <tr style=\"text-align: right;\">\n",
       "      <th></th>\n",
       "      <th>estudiante</th>\n",
       "      <th>Materia</th>\n",
       "      <th>Parcial 1</th>\n",
       "      <th>Parcial 2</th>\n",
       "      <th>Final</th>\n",
       "      <th>Asistencia</th>\n",
       "    </tr>\n",
       "  </thead>\n",
       "  <tbody>\n",
       "    <tr>\n",
       "      <th>0</th>\n",
       "      <td>Ana Pérez</td>\n",
       "      <td>matematicas</td>\n",
       "      <td>8.0</td>\n",
       "      <td>7.5</td>\n",
       "      <td>9.0</td>\n",
       "      <td>95%</td>\n",
       "    </tr>\n",
       "    <tr>\n",
       "      <th>1</th>\n",
       "      <td>Carlos López</td>\n",
       "      <td>fisica</td>\n",
       "      <td>6.2</td>\n",
       "      <td>7.0</td>\n",
       "      <td>7.9</td>\n",
       "      <td>88%</td>\n",
       "    </tr>\n",
       "    <tr>\n",
       "      <th>2</th>\n",
       "      <td>María Gómez</td>\n",
       "      <td>quimica</td>\n",
       "      <td>9.0</td>\n",
       "      <td>8.8</td>\n",
       "      <td>9.5</td>\n",
       "      <td>100%</td>\n",
       "    </tr>\n",
       "    <tr>\n",
       "      <th>3</th>\n",
       "      <td>Pedro Rodríguez</td>\n",
       "      <td>historia</td>\n",
       "      <td>7.5</td>\n",
       "      <td>6.0</td>\n",
       "      <td>7.0</td>\n",
       "      <td>75%</td>\n",
       "    </tr>\n",
       "    <tr>\n",
       "      <th>4</th>\n",
       "      <td>Laura Vargas</td>\n",
       "      <td>matematicas</td>\n",
       "      <td>7.8</td>\n",
       "      <td>9.2</td>\n",
       "      <td>8.5</td>\n",
       "      <td>92%</td>\n",
       "    </tr>\n",
       "  </tbody>\n",
       "</table>\n",
       "</div>"
      ],
      "text/plain": [
       "        estudiante      Materia  Parcial 1  Parcial 2  Final Asistencia\n",
       "0        Ana Pérez  matematicas        8.0        7.5    9.0        95%\n",
       "1     Carlos López       fisica        6.2        7.0    7.9        88%\n",
       "2      María Gómez      quimica        9.0        8.8    9.5       100%\n",
       "3  Pedro Rodríguez     historia        7.5        6.0    7.0        75%\n",
       "4     Laura Vargas  matematicas        7.8        9.2    8.5        92%"
      ]
     },
     "execution_count": 155,
     "metadata": {},
     "output_type": "execute_result"
    }
   ],
   "source": [
    "df[\"estudiante\"]=df[\"estudiante\"].str.title().str.strip()\n",
    "df.head()"
   ]
  },
  {
   "cell_type": "markdown",
   "id": "7fe77ae3",
   "metadata": {},
   "source": [
    "### Renombramos la columna \"estudiante\" a \"Estudiante\""
   ]
  },
  {
   "cell_type": "code",
   "execution_count": 156,
   "id": "c339e270",
   "metadata": {},
   "outputs": [
    {
     "data": {
      "text/html": [
       "<div>\n",
       "<style scoped>\n",
       "    .dataframe tbody tr th:only-of-type {\n",
       "        vertical-align: middle;\n",
       "    }\n",
       "\n",
       "    .dataframe tbody tr th {\n",
       "        vertical-align: top;\n",
       "    }\n",
       "\n",
       "    .dataframe thead th {\n",
       "        text-align: right;\n",
       "    }\n",
       "</style>\n",
       "<table border=\"1\" class=\"dataframe\">\n",
       "  <thead>\n",
       "    <tr style=\"text-align: right;\">\n",
       "      <th></th>\n",
       "      <th>Estudiante</th>\n",
       "      <th>Materia</th>\n",
       "      <th>Parcial 1</th>\n",
       "      <th>Parcial 2</th>\n",
       "      <th>Final</th>\n",
       "      <th>Asistencia</th>\n",
       "    </tr>\n",
       "  </thead>\n",
       "  <tbody>\n",
       "    <tr>\n",
       "      <th>0</th>\n",
       "      <td>Ana Pérez</td>\n",
       "      <td>matematicas</td>\n",
       "      <td>8.0</td>\n",
       "      <td>7.5</td>\n",
       "      <td>9.0</td>\n",
       "      <td>95%</td>\n",
       "    </tr>\n",
       "    <tr>\n",
       "      <th>1</th>\n",
       "      <td>Carlos López</td>\n",
       "      <td>fisica</td>\n",
       "      <td>6.2</td>\n",
       "      <td>7.0</td>\n",
       "      <td>7.9</td>\n",
       "      <td>88%</td>\n",
       "    </tr>\n",
       "    <tr>\n",
       "      <th>2</th>\n",
       "      <td>María Gómez</td>\n",
       "      <td>quimica</td>\n",
       "      <td>9.0</td>\n",
       "      <td>8.8</td>\n",
       "      <td>9.5</td>\n",
       "      <td>100%</td>\n",
       "    </tr>\n",
       "    <tr>\n",
       "      <th>3</th>\n",
       "      <td>Pedro Rodríguez</td>\n",
       "      <td>historia</td>\n",
       "      <td>7.5</td>\n",
       "      <td>6.0</td>\n",
       "      <td>7.0</td>\n",
       "      <td>75%</td>\n",
       "    </tr>\n",
       "    <tr>\n",
       "      <th>4</th>\n",
       "      <td>Laura Vargas</td>\n",
       "      <td>matematicas</td>\n",
       "      <td>7.8</td>\n",
       "      <td>9.2</td>\n",
       "      <td>8.5</td>\n",
       "      <td>92%</td>\n",
       "    </tr>\n",
       "  </tbody>\n",
       "</table>\n",
       "</div>"
      ],
      "text/plain": [
       "        Estudiante      Materia  Parcial 1  Parcial 2  Final Asistencia\n",
       "0        Ana Pérez  matematicas        8.0        7.5    9.0        95%\n",
       "1     Carlos López       fisica        6.2        7.0    7.9        88%\n",
       "2      María Gómez      quimica        9.0        8.8    9.5       100%\n",
       "3  Pedro Rodríguez     historia        7.5        6.0    7.0        75%\n",
       "4     Laura Vargas  matematicas        7.8        9.2    8.5        92%"
      ]
     },
     "execution_count": 156,
     "metadata": {},
     "output_type": "execute_result"
    }
   ],
   "source": [
    "df=df.rename(columns={\"estudiante\":\"Estudiante\"})\n",
    "df.head()"
   ]
  },
  {
   "cell_type": "markdown",
   "id": "bf5a5a70",
   "metadata": {},
   "source": [
    "# Punto 4\n",
    "## Ahora vamos a obtener estadisticas descriptivas en base a este dataFrame"
   ]
  },
  {
   "cell_type": "code",
   "execution_count": 180,
   "id": "db4efee8",
   "metadata": {},
   "outputs": [
    {
     "name": "stdout",
     "output_type": "stream",
     "text": [
      "Las estidiantes son:\n",
      "       Parcial 1  Parcial 2   Final\n",
      "count     100.00     100.00  100.00\n",
      "mean        7.87       7.87    7.90\n",
      "std         1.17       1.17    1.11\n",
      "min         6.00       6.00    5.70\n",
      "25%         7.00       7.00    7.10\n",
      "50%         8.00       8.00    7.90\n",
      "75%         9.00       9.00    8.83\n",
      "max        10.00      10.00    9.90\n",
      "<------------------------------------------------------------------------------>\n",
      "Promedio de notas por materias:\n",
      "Materia\n",
      "ciencias sociales       7.90\n",
      "fisica                  6.62\n",
      "historia                7.48\n",
      "literatura universal    8.20\n",
      "matematicas             8.47\n",
      "programacion basica     6.30\n",
      "quimica                 9.03\n",
      "Name: Final, dtype: float64\n"
     ]
    }
   ],
   "source": [
    "print(\"Las estidiantes son:\")\n",
    "\n",
    "print(df.describe().round(2))\n",
    "df\n",
    "print(\"<------------------------------------------------------------------------------>\")\n",
    "\n",
    "print(\"Promedio de notas por materias:\")\n",
    "print(df.groupby(\"Materia\")[\"Final\"].mean().round(2))\n"
   ]
  },
  {
   "cell_type": "markdown",
   "id": "17e84136",
   "metadata": {},
   "source": [
    "### 5. Visualización de los Datos con Matplotlib\n",
    "\n",
    "En esta sección, deben utilizar la librería Matplotlib para crear visualizaciones que permitan comprender mejor la distribución de las calificaciones y la asistencia. Se generarán histogramas, diagramas de dispersión y gráficos de barras.\n"
   ]
  },
  {
   "cell_type": "markdown",
   "id": "da1374b6",
   "metadata": {},
   "source": [
    "## Histograma de asistencia promedio por materia"
   ]
  },
  {
   "cell_type": "code",
   "execution_count": 158,
   "id": "d9ab4ead",
   "metadata": {},
   "outputs": [
    {
     "data": {
      "image/png": "[encoded data removed]",
      "text/plain": [
       "<Figure size 1500x400 with 1 Axes>"
      ]
     },
     "metadata": {},
     "output_type": "display_data"
    }
   ],
   "source": [
    "asistencia_por_materia=df[[\"Materia\", \"Asistencia\"]].copy()\n",
    "\n",
    "asistencia_por_materia[\"Asistencia\"]=asistencia_por_materia[\"Asistencia\"].str.replace(\"%\", \"\").astype(int)\n",
    "\n",
    "rejunte=asistencia_por_materia.groupby(\"Materia\")[\"Asistencia\"].mean()\n",
    "\n",
    "plt.figure(figsize=(15, 4))\n",
    "plt.title(\"Asistencia promedio por materia\")\n",
    "plt.bar(rejunte.index, rejunte.values, color=\"red\", alpha=0.7, edgecolor=\"black\")\n",
    "plt.xlabel(\"Materia\")\n",
    "plt.ylabel(\"Asistencia promedio (%)\")\n",
    "plt.xticks(rotation=45)\n",
    "plt.grid()\n",
    "plt.show()"
   ]
  },
  {
   "cell_type": "markdown",
   "id": "9eb28489",
   "metadata": {},
   "source": [
    "## Grafico de notas por materia\n",
    "Guardamos los datos de las materias en una variable para luego mostrarlas"
   ]
  },
  {
   "cell_type": "code",
   "execution_count": 159,
   "id": "d2340cb4",
   "metadata": {},
   "outputs": [
    {
     "data": {
      "image/png": "[encoded data removed]",
      "text/plain": [
       "<Figure size 1500x500 with 1 Axes>"
      ]
     },
     "metadata": {},
     "output_type": "display_data"
    }
   ],
   "source": [
    "notas_por_materia=df[[\"Materia\", \"Final\"]].copy()\n",
    "notas_por_materia[\"Final\"]=notas_por_materia[\"Final\"]\n",
    "notas_por_materia.groupby(\"Materia\")[\"Final\"].mean()\n",
    "\n",
    "\n",
    "plt.figure(figsize=(15, 5))\n",
    "plt.title(\"Notas promedio por materia\")\n",
    "plt.bar(notas_por_materia[\"Materia\"], notas_por_materia[\"Final\"], color=\"blue\", alpha=0.7)\n",
    "plt.xlabel(\"Materia\")\n",
    "plt.ylabel(\"Notas promedio\")\n",
    "plt.xticks(rotation=45)\n",
    "plt.grid()\n",
    "plt.show()"
   ]
  },
  {
   "cell_type": "markdown",
   "id": "2615fcf1",
   "metadata": {},
   "source": []
  },
  {
   "cell_type": "code",
   "execution_count": 160,
   "id": "f1b7a845",
   "metadata": {},
   "outputs": [
    {
     "data": {
      "image/png": "[encoded data removed]",
      "text/plain": [
       "<Figure size 1500x500 with 1 Axes>"
      ]
     },
     "metadata": {},
     "output_type": "display_data"
    }
   ],
   "source": [
    "\n",
    "# promedio_por_materia=df.groupby(\"Materia\")[\"Final\"].mean().round(2)\n",
    "promedio_por_materia=df.groupby(\"Materia\")[[\"Parcial 1\", \"Parcial 2\", \"Final\"]].mean().round(2)\n",
    "promedio_por_materia\n",
    "\n",
    "promedio_por_materia.plot(kind=\"bar\", color=[\"blue\", \"orange\", \"green\"], alpha=0.7 ,figsize=(15, 5))\n",
    "plt.title(\"Promedio de notas por materia\")\n",
    "plt.xlabel(\"Materia\")\n",
    "plt.ylabel(\"Notas promedio\")\n",
    "plt.xticks(rotation=45)\n",
    "plt.legend(title=\"Tipo de nota\")\n",
    "plt.grid()\n",
    "plt.show()"
   ]
  },
  {
   "cell_type": "markdown",
   "id": "cbf7d600",
   "metadata": {},
   "source": [
    "### PUNTO 6\n",
    "### Guardar un DataFrame en una Base de Datos SQLite\n",
    "\n",
    "Ahora importaremos nuestro DataFrame en una base de datos SQLite de la siguiente manera"
   ]
  },
  {
   "cell_type": "code",
   "execution_count": 161,
   "id": "5e680ae8",
   "metadata": {},
   "outputs": [],
   "source": [
    "\n",
    "import sqlite3\n",
    "conn = sqlite3.connect(\"calificaciones.sqlite3\")\n",
    "df.to_sql(\"calificaciones\", conn, if_exists=\"replace\", index=False)\n",
    "conn.close()\n"
   ]
  }
 ],
 "metadata": {
  "kernelspec": {
   "display_name": "venv",
   "language": "python",
   "name": "python3"
  },
  "language_info": {
   "codemirror_mode": {
    "name": "ipython",
    "version": 3
   },
   "file_extension": ".py",
   "mimetype": "text/x-python",
   "name": "python",
   "nbconvert_exporter": "python",
   "pygments_lexer": "ipython3",
   "version": "3.12.6"
  }
 },
 "nbformat": 4,
 "nbformat_minor": 5
}
